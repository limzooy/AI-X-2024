{
 "cells": [
  {
   "cell_type": "markdown",
   "id": "2afafdae",
   "metadata": {},
   "source": [
    "# \"지하철 이용승객 분석\" EDA 프로젝트(1)\n",
    "- 이번 프로젝트에서는 EDA가 무엇이고 , 실습을 통해 EDA 하는 방법을 배워보겠습니다.\n",
    "- EDA(Exploratory Data Analysis 탐색적 데이터 분석)는 데이터를 이해하는 과정이며 \n",
    "- 통계적 요약, 분포 파악 및 시각화 등의 기법을 통해 직관적으로 데이터 특성 파악 할수 있습니다.\n",
    "- 결국, EDA를 통해 데이터에서 트랜드 분석, 인사이트 도출하게 됩니다. \n"
   ]
  },
  {
   "cell_type": "markdown",
   "id": "71e1bfef",
   "metadata": {},
   "source": [
    "## 실습 데이터 \n",
    "- 지하철 승하자 이용객 데이터 : 2019.01.01 ~ 2019.06.30 \n",
    "  - 서울열린데이터광장 :  http://data.seoul.go.kr/dataList/OA-12914/A/1/datasetView.do\n",
    "- 지하철 노선 정보 데이터"
   ]
  },
  {
   "cell_type": "markdown",
   "id": "1e2a40d2",
   "metadata": {},
   "source": [
    "## EDA 실습을 통해 해결해야 할 질문들\n",
    " \n",
    "- 2019.01~06 중에 언제 지하철을 가장 많이 이용했을까? (기준: 승하자총승객수)\n",
    "- 1월~6월중에 5월에 지하철 승객수가 많다? (기준 :승하자총승객수)\n",
    "- 요일중에서 목요일에 지하철 승객수가 많다? (기준 :승하자총승객수)\n",
    "- 일자별(월일별) 승하차승객수 그래프 그려 볼까요? (기준 :승하자총승객수)\n",
    "- 가장 승객이 많이 타는 승차역은?\n",
    "- 노선별로 역별/요일별 승차승객수를 비교해 볼수 있을까? (1~9호선, 역별/요일별 heatmap)\n",
    "- 1호선에서 가장 하자를 많이 하는 역은? (groupby)\n",
    "- 2호선중에서 어느 역에서 승차가 가장 많이 발생할까? (Folium 역 표시)"
   ]
  },
  {
   "cell_type": "markdown",
   "id": "f8098ba7",
   "metadata": {},
   "source": [
    "## 해당 Jupyter Notebook에서 실습 내용\n",
    "- 필요한 라이브러리 가져오기\n",
    "- 필요한 파일 불러오고 병합하기(read_csv, merge)\n",
    "- Feature Engineering : 요일, 연월, 월일, 승하자총승객수 컬럼 추가\n",
    "- 데이터 저장하기"
   ]
  },
  {
   "cell_type": "markdown",
   "id": "511bde49",
   "metadata": {},
   "source": [
    "<br>"
   ]
  },
  {
   "cell_type": "markdown",
   "id": "dd268715",
   "metadata": {},
   "source": [
    "# 1. 필요한 라이브러리 가져오기"
   ]
  },
  {
   "cell_type": "code",
   "execution_count": 27,
   "id": "436d42b8",
   "metadata": {},
   "outputs": [],
   "source": [
    "# 필요한 라이브러리를 불러옵니다.\n",
    "\n",
    "import pandas as pd\n"
   ]
  },
  {
   "cell_type": "markdown",
   "id": "500fdccc",
   "metadata": {},
   "source": [
    "# 2 raw 파일 불러오기\n",
    "- 열차/노선/지하철역별 승하자 고객수\n",
    "- 19년 상반기(19년 1월 ~ 19년 6월)"
   ]
  },
  {
   "cell_type": "code",
   "execution_count": 28,
   "id": "bdc75fd9",
   "metadata": {},
   "outputs": [
    {
     "data": {
      "text/html": [
       "<div>\n",
       "<style scoped>\n",
       "    .dataframe tbody tr th:only-of-type {\n",
       "        vertical-align: middle;\n",
       "    }\n",
       "\n",
       "    .dataframe tbody tr th {\n",
       "        vertical-align: top;\n",
       "    }\n",
       "\n",
       "    .dataframe thead th {\n",
       "        text-align: right;\n",
       "    }\n",
       "</style>\n",
       "<table border=\"1\" class=\"dataframe\">\n",
       "  <thead>\n",
       "    <tr style=\"text-align: right;\">\n",
       "      <th></th>\n",
       "      <th>사용일자</th>\n",
       "      <th>노선명</th>\n",
       "      <th>역명</th>\n",
       "      <th>승차총승객수</th>\n",
       "      <th>하차총승객수</th>\n",
       "      <th>등록일자</th>\n",
       "    </tr>\n",
       "  </thead>\n",
       "  <tbody>\n",
       "    <tr>\n",
       "      <th>0</th>\n",
       "      <td>20190101</td>\n",
       "      <td>2호선</td>\n",
       "      <td>을지로4가</td>\n",
       "      <td>3862.0</td>\n",
       "      <td>3728.0</td>\n",
       "      <td>20190104</td>\n",
       "    </tr>\n",
       "    <tr>\n",
       "      <th>1</th>\n",
       "      <td>20190101</td>\n",
       "      <td>3호선</td>\n",
       "      <td>을지로3가</td>\n",
       "      <td>8104.0</td>\n",
       "      <td>7554.0</td>\n",
       "      <td>20190104</td>\n",
       "    </tr>\n",
       "    <tr>\n",
       "      <th>2</th>\n",
       "      <td>20190101</td>\n",
       "      <td>2호선</td>\n",
       "      <td>을지로입구</td>\n",
       "      <td>22478.0</td>\n",
       "      <td>21330.0</td>\n",
       "      <td>20190104</td>\n",
       "    </tr>\n",
       "    <tr>\n",
       "      <th>3</th>\n",
       "      <td>20190101</td>\n",
       "      <td>2호선</td>\n",
       "      <td>시청</td>\n",
       "      <td>8381.0</td>\n",
       "      <td>6049.0</td>\n",
       "      <td>20190104</td>\n",
       "    </tr>\n",
       "    <tr>\n",
       "      <th>4</th>\n",
       "      <td>20190101</td>\n",
       "      <td>6호선</td>\n",
       "      <td>동묘앞</td>\n",
       "      <td>8045.0</td>\n",
       "      <td>8504.0</td>\n",
       "      <td>20190104</td>\n",
       "    </tr>\n",
       "    <tr>\n",
       "      <th>...</th>\n",
       "      <td>...</td>\n",
       "      <td>...</td>\n",
       "      <td>...</td>\n",
       "      <td>...</td>\n",
       "      <td>...</td>\n",
       "      <td>...</td>\n",
       "    </tr>\n",
       "    <tr>\n",
       "      <th>18329</th>\n",
       "      <td>20190131</td>\n",
       "      <td>우이신설경전철</td>\n",
       "      <td>북한산보국문</td>\n",
       "      <td>6195.0</td>\n",
       "      <td>5786.0</td>\n",
       "      <td>20190203</td>\n",
       "    </tr>\n",
       "    <tr>\n",
       "      <th>18330</th>\n",
       "      <td>20190131</td>\n",
       "      <td>우이신설경전철</td>\n",
       "      <td>정릉</td>\n",
       "      <td>4600.0</td>\n",
       "      <td>4211.0</td>\n",
       "      <td>20190203</td>\n",
       "    </tr>\n",
       "    <tr>\n",
       "      <th>18331</th>\n",
       "      <td>20190131</td>\n",
       "      <td>4호선</td>\n",
       "      <td>성신여대입구</td>\n",
       "      <td>3922.0</td>\n",
       "      <td>4289.0</td>\n",
       "      <td>20190203</td>\n",
       "    </tr>\n",
       "    <tr>\n",
       "      <th>18332</th>\n",
       "      <td>20190131</td>\n",
       "      <td>6호선</td>\n",
       "      <td>보문</td>\n",
       "      <td>1659.0</td>\n",
       "      <td>1693.0</td>\n",
       "      <td>20190203</td>\n",
       "    </tr>\n",
       "    <tr>\n",
       "      <th>18333</th>\n",
       "      <td>20190131</td>\n",
       "      <td>1호선</td>\n",
       "      <td>신설동</td>\n",
       "      <td>2075.0</td>\n",
       "      <td>2215.0</td>\n",
       "      <td>20190203</td>\n",
       "    </tr>\n",
       "  </tbody>\n",
       "</table>\n",
       "<p>18334 rows × 6 columns</p>\n",
       "</div>"
      ],
      "text/plain": [
       "           사용일자      노선명      역명   승차총승객수   하차총승객수      등록일자\n",
       "0      20190101      2호선   을지로4가   3862.0   3728.0  20190104\n",
       "1      20190101      3호선   을지로3가   8104.0   7554.0  20190104\n",
       "2      20190101      2호선   을지로입구  22478.0  21330.0  20190104\n",
       "3      20190101      2호선      시청   8381.0   6049.0  20190104\n",
       "4      20190101      6호선     동묘앞   8045.0   8504.0  20190104\n",
       "...         ...      ...     ...      ...      ...       ...\n",
       "18329  20190131  우이신설경전철  북한산보국문   6195.0   5786.0  20190203\n",
       "18330  20190131  우이신설경전철      정릉   4600.0   4211.0  20190203\n",
       "18331  20190131      4호선  성신여대입구   3922.0   4289.0  20190203\n",
       "18332  20190131      6호선      보문   1659.0   1693.0  20190203\n",
       "18333  20190131      1호선     신설동   2075.0   2215.0  20190203\n",
       "\n",
       "[18334 rows x 6 columns]"
      ]
     },
     "execution_count": 28,
     "metadata": {},
     "output_type": "execute_result"
    }
   ],
   "source": [
    "# 작업할 여러개의 파일 중 하나의 파일을 불러옵니다.\n",
    "\n",
    "file ='C:/Users/limjy/Desktop/4학년 1학기/AI+X 선도인재양성/3주차_지하철 이용승객 EDA분석_숙제_20220914/실습/rawfiles/rawfiles/CARD_SUBWAY_MONTH_201901.csv'\n",
    "pd.read_csv(file)\n"
   ]
  },
  {
   "cell_type": "code",
   "execution_count": 29,
   "id": "b4f4fb86",
   "metadata": {},
   "outputs": [
    {
     "data": {
      "text/html": [
       "<div>\n",
       "<style scoped>\n",
       "    .dataframe tbody tr th:only-of-type {\n",
       "        vertical-align: middle;\n",
       "    }\n",
       "\n",
       "    .dataframe tbody tr th {\n",
       "        vertical-align: top;\n",
       "    }\n",
       "\n",
       "    .dataframe thead th {\n",
       "        text-align: right;\n",
       "    }\n",
       "</style>\n",
       "<table border=\"1\" class=\"dataframe\">\n",
       "  <thead>\n",
       "    <tr style=\"text-align: right;\">\n",
       "      <th></th>\n",
       "      <th>사용일자</th>\n",
       "      <th>노선명</th>\n",
       "      <th>역명</th>\n",
       "      <th>승차총승객수</th>\n",
       "      <th>하차총승객수</th>\n",
       "      <th>등록일자</th>\n",
       "    </tr>\n",
       "  </thead>\n",
       "  <tbody>\n",
       "    <tr>\n",
       "      <th>0</th>\n",
       "      <td>20190101</td>\n",
       "      <td>2호선</td>\n",
       "      <td>을지로4가</td>\n",
       "      <td>3862.0</td>\n",
       "      <td>3728.0</td>\n",
       "      <td>20190104</td>\n",
       "    </tr>\n",
       "    <tr>\n",
       "      <th>1</th>\n",
       "      <td>20190101</td>\n",
       "      <td>3호선</td>\n",
       "      <td>을지로3가</td>\n",
       "      <td>8104.0</td>\n",
       "      <td>7554.0</td>\n",
       "      <td>20190104</td>\n",
       "    </tr>\n",
       "    <tr>\n",
       "      <th>2</th>\n",
       "      <td>20190101</td>\n",
       "      <td>2호선</td>\n",
       "      <td>을지로입구</td>\n",
       "      <td>22478.0</td>\n",
       "      <td>21330.0</td>\n",
       "      <td>20190104</td>\n",
       "    </tr>\n",
       "    <tr>\n",
       "      <th>3</th>\n",
       "      <td>20190101</td>\n",
       "      <td>2호선</td>\n",
       "      <td>시청</td>\n",
       "      <td>8381.0</td>\n",
       "      <td>6049.0</td>\n",
       "      <td>20190104</td>\n",
       "    </tr>\n",
       "    <tr>\n",
       "      <th>4</th>\n",
       "      <td>20190101</td>\n",
       "      <td>6호선</td>\n",
       "      <td>동묘앞</td>\n",
       "      <td>8045.0</td>\n",
       "      <td>8504.0</td>\n",
       "      <td>20190104</td>\n",
       "    </tr>\n",
       "  </tbody>\n",
       "</table>\n",
       "</div>"
      ],
      "text/plain": [
       "       사용일자  노선명     역명   승차총승객수   하차총승객수      등록일자\n",
       "0  20190101  2호선  을지로4가   3862.0   3728.0  20190104\n",
       "1  20190101  3호선  을지로3가   8104.0   7554.0  20190104\n",
       "2  20190101  2호선  을지로입구  22478.0  21330.0  20190104\n",
       "3  20190101  2호선     시청   8381.0   6049.0  20190104\n",
       "4  20190101  6호선    동묘앞   8045.0   8504.0  20190104"
      ]
     },
     "execution_count": 29,
     "metadata": {},
     "output_type": "execute_result"
    }
   ],
   "source": [
    "raw = pd.read_csv(file)\n",
    "raw.head()"
   ]
  },
  {
   "cell_type": "code",
   "execution_count": 30,
   "id": "7291e6f6",
   "metadata": {},
   "outputs": [
    {
     "name": "stdout",
     "output_type": "stream",
     "text": [
      "<class 'pandas.core.frame.DataFrame'>\n",
      "RangeIndex: 18334 entries, 0 to 18333\n",
      "Data columns (total 6 columns):\n",
      " #   Column  Non-Null Count  Dtype  \n",
      "---  ------  --------------  -----  \n",
      " 0   사용일자    18334 non-null  int64  \n",
      " 1   노선명     18334 non-null  object \n",
      " 2   역명      18334 non-null  object \n",
      " 3   승차총승객수  18334 non-null  float64\n",
      " 4   하차총승객수  18334 non-null  float64\n",
      " 5   등록일자    18334 non-null  int64  \n",
      "dtypes: float64(2), int64(2), object(2)\n",
      "memory usage: 859.5+ KB\n"
     ]
    }
   ],
   "source": [
    "# info() 이용해 데이터 구조를 살펴볼수 있습니다.\n",
    "\n",
    "raw.info()\n"
   ]
  },
  {
   "cell_type": "markdown",
   "id": "66d1b61c",
   "metadata": {},
   "source": [
    "## 참고) 판다스로 파일 읽어오기"
   ]
  },
  {
   "cell_type": "markdown",
   "id": "b613dea3",
   "metadata": {},
   "source": [
    "### 데이터 파일 읽기 : read_excel / read_csv\n",
    "- pd.read_excel('파일경로+파일명.xlsx')\n",
    "- pd.read_csv('파일경로+파일명.csv', encoding='utf-8')\n",
    "- pd.read_csv('파일경로+파일명.csv', encoding='cp949') # MS 엑셀에 저장된 경우"
   ]
  },
  {
   "cell_type": "code",
   "execution_count": 31,
   "id": "2cb3490e",
   "metadata": {},
   "outputs": [],
   "source": [
    "# 이번에 여러 파일을 불러오겠습니다.\n",
    "# 2개 파일 불러와서 합치기\n",
    "\n",
    "raw = pd.DataFrame()\n",
    "raw.head()\n",
    "\n",
    "file1 = 'C:/Users/limjy/Desktop/4학년 1학기/AI+X 선도인재양성/3주차_지하철 이용승객 EDA분석_숙제_20220914/실습/rawfiles/rawfiles/CARD_SUBWAY_MONTH_201901.csv'\n",
    "file2 = 'C:/Users/limjy/Desktop/4학년 1학기/AI+X 선도인재양성/3주차_지하철 이용승객 EDA분석_숙제_20220914/실습/rawfiles/rawfiles/CARD_SUBWAY_MONTH_201902.csv'\n",
    "\n",
    "temp1 = pd.read_csv(file1)\n",
    "temp2 = pd.read_csv(file2)\n",
    "\n",
    "# pandas concat 합치때, 인덱스 번호 그래로 간다. 옵션 ignore_index=True 사용하면 인덱스 새로 생성\n",
    "raw = pd.concat([temp1, temp2], axis=0)\n"
   ]
  },
  {
   "cell_type": "code",
   "execution_count": 32,
   "id": "9e62c7f7",
   "metadata": {},
   "outputs": [
    {
     "data": {
      "text/html": [
       "<div>\n",
       "<style scoped>\n",
       "    .dataframe tbody tr th:only-of-type {\n",
       "        vertical-align: middle;\n",
       "    }\n",
       "\n",
       "    .dataframe tbody tr th {\n",
       "        vertical-align: top;\n",
       "    }\n",
       "\n",
       "    .dataframe thead th {\n",
       "        text-align: right;\n",
       "    }\n",
       "</style>\n",
       "<table border=\"1\" class=\"dataframe\">\n",
       "  <thead>\n",
       "    <tr style=\"text-align: right;\">\n",
       "      <th></th>\n",
       "      <th>사용일자</th>\n",
       "      <th>노선명</th>\n",
       "      <th>역명</th>\n",
       "      <th>승차총승객수</th>\n",
       "      <th>하차총승객수</th>\n",
       "      <th>등록일자</th>\n",
       "    </tr>\n",
       "  </thead>\n",
       "  <tbody>\n",
       "    <tr>\n",
       "      <th>0</th>\n",
       "      <td>20190101</td>\n",
       "      <td>2호선</td>\n",
       "      <td>을지로4가</td>\n",
       "      <td>3862.0</td>\n",
       "      <td>3728.0</td>\n",
       "      <td>20190104</td>\n",
       "    </tr>\n",
       "    <tr>\n",
       "      <th>1</th>\n",
       "      <td>20190101</td>\n",
       "      <td>3호선</td>\n",
       "      <td>을지로3가</td>\n",
       "      <td>8104.0</td>\n",
       "      <td>7554.0</td>\n",
       "      <td>20190104</td>\n",
       "    </tr>\n",
       "    <tr>\n",
       "      <th>2</th>\n",
       "      <td>20190101</td>\n",
       "      <td>2호선</td>\n",
       "      <td>을지로입구</td>\n",
       "      <td>22478.0</td>\n",
       "      <td>21330.0</td>\n",
       "      <td>20190104</td>\n",
       "    </tr>\n",
       "    <tr>\n",
       "      <th>3</th>\n",
       "      <td>20190101</td>\n",
       "      <td>2호선</td>\n",
       "      <td>시청</td>\n",
       "      <td>8381.0</td>\n",
       "      <td>6049.0</td>\n",
       "      <td>20190104</td>\n",
       "    </tr>\n",
       "    <tr>\n",
       "      <th>4</th>\n",
       "      <td>20190101</td>\n",
       "      <td>6호선</td>\n",
       "      <td>동묘앞</td>\n",
       "      <td>8045.0</td>\n",
       "      <td>8504.0</td>\n",
       "      <td>20190104</td>\n",
       "    </tr>\n",
       "    <tr>\n",
       "      <th>...</th>\n",
       "      <td>...</td>\n",
       "      <td>...</td>\n",
       "      <td>...</td>\n",
       "      <td>...</td>\n",
       "      <td>...</td>\n",
       "      <td>...</td>\n",
       "    </tr>\n",
       "    <tr>\n",
       "      <th>16538</th>\n",
       "      <td>20190228</td>\n",
       "      <td>2호선</td>\n",
       "      <td>을지로4가</td>\n",
       "      <td>6128.0</td>\n",
       "      <td>7087.0</td>\n",
       "      <td>20190303</td>\n",
       "    </tr>\n",
       "    <tr>\n",
       "      <th>16539</th>\n",
       "      <td>20190228</td>\n",
       "      <td>2호선</td>\n",
       "      <td>동대문역사문화공원</td>\n",
       "      <td>3387.0</td>\n",
       "      <td>4061.0</td>\n",
       "      <td>20190303</td>\n",
       "    </tr>\n",
       "    <tr>\n",
       "      <th>16540</th>\n",
       "      <td>20190228</td>\n",
       "      <td>5호선</td>\n",
       "      <td>청구</td>\n",
       "      <td>4920.0</td>\n",
       "      <td>4474.0</td>\n",
       "      <td>20190303</td>\n",
       "    </tr>\n",
       "    <tr>\n",
       "      <th>16541</th>\n",
       "      <td>20190228</td>\n",
       "      <td>1호선</td>\n",
       "      <td>가산디지털단지</td>\n",
       "      <td>51729.0</td>\n",
       "      <td>52043.0</td>\n",
       "      <td>20190303</td>\n",
       "    </tr>\n",
       "    <tr>\n",
       "      <th>16542</th>\n",
       "      <td>20190228</td>\n",
       "      <td>5호선</td>\n",
       "      <td>신금호</td>\n",
       "      <td>7599.0</td>\n",
       "      <td>7518.0</td>\n",
       "      <td>20190303</td>\n",
       "    </tr>\n",
       "  </tbody>\n",
       "</table>\n",
       "<p>34877 rows × 6 columns</p>\n",
       "</div>"
      ],
      "text/plain": [
       "           사용일자  노선명         역명   승차총승객수   하차총승객수      등록일자\n",
       "0      20190101  2호선      을지로4가   3862.0   3728.0  20190104\n",
       "1      20190101  3호선      을지로3가   8104.0   7554.0  20190104\n",
       "2      20190101  2호선      을지로입구  22478.0  21330.0  20190104\n",
       "3      20190101  2호선         시청   8381.0   6049.0  20190104\n",
       "4      20190101  6호선        동묘앞   8045.0   8504.0  20190104\n",
       "...         ...  ...        ...      ...      ...       ...\n",
       "16538  20190228  2호선      을지로4가   6128.0   7087.0  20190303\n",
       "16539  20190228  2호선  동대문역사문화공원   3387.0   4061.0  20190303\n",
       "16540  20190228  5호선         청구   4920.0   4474.0  20190303\n",
       "16541  20190228  1호선    가산디지털단지  51729.0  52043.0  20190303\n",
       "16542  20190228  5호선        신금호   7599.0   7518.0  20190303\n",
       "\n",
       "[34877 rows x 6 columns]"
      ]
     },
     "execution_count": 32,
     "metadata": {},
     "output_type": "execute_result"
    }
   ],
   "source": [
    "raw"
   ]
  },
  {
   "cell_type": "markdown",
   "id": "fce2fb5b",
   "metadata": {},
   "source": [
    "---"
   ]
  },
  {
   "cell_type": "markdown",
   "id": "d35f726a",
   "metadata": {},
   "source": [
    "# Q) 폴더에 있는 모든 파일을 불러와서 병합할수 있을까?"
   ]
  },
  {
   "cell_type": "code",
   "execution_count": 33,
   "id": "9e99379f",
   "metadata": {},
   "outputs": [],
   "source": [
    "# 폴더/파일을 관리하는 os 라이브러리를 불러옵니다.\n",
    "\n",
    "import os\n"
   ]
  },
  {
   "cell_type": "code",
   "execution_count": 34,
   "id": "b299ee62",
   "metadata": {},
   "outputs": [
    {
     "data": {
      "text/plain": [
       "['.ipynb_checkpoints',\n",
       " '1.지하철 이용승객 분석 EDA 실습과제.ipynb',\n",
       " '1.지하철 이용승객 분석 EDA 프로젝트(1)완료.ipynb',\n",
       " 'practice.ipynb',\n",
       " 'rawfiles',\n",
       " 'rawfiles.zip',\n",
       " 'subway_raw.csv']"
      ]
     },
     "execution_count": 34,
     "metadata": {},
     "output_type": "execute_result"
    }
   ],
   "source": [
    "# os.listdir()을 이용해 폴더에 있는 파일 리스트를 살펴봅니다.\n",
    "\n",
    "os.listdir()\n"
   ]
  },
  {
   "cell_type": "code",
   "execution_count": 35,
   "id": "16bfd688",
   "metadata": {},
   "outputs": [
    {
     "data": {
      "text/plain": [
       "['rawfiles', '지하철노선위경도정보2.csv']"
      ]
     },
     "execution_count": 35,
     "metadata": {},
     "output_type": "execute_result"
    }
   ],
   "source": [
    "dirpath = 'rawfiles'\n",
    "os.listdir(dirpath)"
   ]
  },
  {
   "cell_type": "code",
   "execution_count": 36,
   "id": "acec38bd",
   "metadata": {},
   "outputs": [
    {
     "data": {
      "text/plain": [
       "['CARD_SUBWAY_MONTH_201901.csv',\n",
       " 'CARD_SUBWAY_MONTH_201902.csv',\n",
       " 'CARD_SUBWAY_MONTH_201903.csv',\n",
       " 'CARD_SUBWAY_MONTH_201904.csv',\n",
       " 'CARD_SUBWAY_MONTH_201905.csv',\n",
       " 'CARD_SUBWAY_MONTH_201906.csv']"
      ]
     },
     "execution_count": 36,
     "metadata": {},
     "output_type": "execute_result"
    }
   ],
   "source": [
    "dirpath = 'C:/Users/limjy/Desktop/4학년 1학기/AI+X 선도인재양성/3주차_지하철 이용승객 EDA분석_숙제_20220914/실습/rawfiles/rawfiles'\n",
    "files = os.listdir(dirpath)\n",
    "files\n"
   ]
  },
  {
   "cell_type": "code",
   "execution_count": 37,
   "id": "6d89239f",
   "metadata": {},
   "outputs": [
    {
     "data": {
      "text/html": [
       "<div>\n",
       "<style scoped>\n",
       "    .dataframe tbody tr th:only-of-type {\n",
       "        vertical-align: middle;\n",
       "    }\n",
       "\n",
       "    .dataframe tbody tr th {\n",
       "        vertical-align: top;\n",
       "    }\n",
       "\n",
       "    .dataframe thead th {\n",
       "        text-align: right;\n",
       "    }\n",
       "</style>\n",
       "<table border=\"1\" class=\"dataframe\">\n",
       "  <thead>\n",
       "    <tr style=\"text-align: right;\">\n",
       "      <th></th>\n",
       "      <th>사용일자</th>\n",
       "      <th>노선명</th>\n",
       "      <th>역명</th>\n",
       "      <th>승차총승객수</th>\n",
       "      <th>하차총승객수</th>\n",
       "      <th>등록일자</th>\n",
       "    </tr>\n",
       "  </thead>\n",
       "  <tbody>\n",
       "    <tr>\n",
       "      <th>17719</th>\n",
       "      <td>20190630</td>\n",
       "      <td>7호선</td>\n",
       "      <td>마들</td>\n",
       "      <td>6622.0</td>\n",
       "      <td>6116.0</td>\n",
       "      <td>20190703</td>\n",
       "    </tr>\n",
       "    <tr>\n",
       "      <th>17720</th>\n",
       "      <td>20190630</td>\n",
       "      <td>4호선</td>\n",
       "      <td>노원</td>\n",
       "      <td>14071.0</td>\n",
       "      <td>14702.0</td>\n",
       "      <td>20190703</td>\n",
       "    </tr>\n",
       "    <tr>\n",
       "      <th>17721</th>\n",
       "      <td>20190630</td>\n",
       "      <td>7호선</td>\n",
       "      <td>중계</td>\n",
       "      <td>9516.0</td>\n",
       "      <td>8981.0</td>\n",
       "      <td>20190703</td>\n",
       "    </tr>\n",
       "    <tr>\n",
       "      <th>17722</th>\n",
       "      <td>20190630</td>\n",
       "      <td>7호선</td>\n",
       "      <td>하계</td>\n",
       "      <td>11645.0</td>\n",
       "      <td>11121.0</td>\n",
       "      <td>20190703</td>\n",
       "    </tr>\n",
       "    <tr>\n",
       "      <th>17723</th>\n",
       "      <td>20190630</td>\n",
       "      <td>6호선</td>\n",
       "      <td>태릉입구</td>\n",
       "      <td>5730.0</td>\n",
       "      <td>5214.0</td>\n",
       "      <td>20190703</td>\n",
       "    </tr>\n",
       "  </tbody>\n",
       "</table>\n",
       "</div>"
      ],
      "text/plain": [
       "           사용일자  노선명    역명   승차총승객수   하차총승객수      등록일자\n",
       "17719  20190630  7호선    마들   6622.0   6116.0  20190703\n",
       "17720  20190630  4호선    노원  14071.0  14702.0  20190703\n",
       "17721  20190630  7호선    중계   9516.0   8981.0  20190703\n",
       "17722  20190630  7호선    하계  11645.0  11121.0  20190703\n",
       "17723  20190630  6호선  태릉입구   5730.0   5214.0  20190703"
      ]
     },
     "execution_count": 37,
     "metadata": {},
     "output_type": "execute_result"
    }
   ],
   "source": [
    "# 여러개의 파일을 병합하겠습니다.\n",
    "\n",
    "# 빈 데이터프레임을 준비\n",
    "raw = pd.DataFrame()\n",
    "\n",
    "# 반복문 -> csv 파일 읽기 -> 데이터프레임에 추가하기\n",
    "for file in files:\n",
    "    #filepath = os.~ #(히든 파일이나 히든이 걸리면 제외시키고 하면됨.)\n",
    "    #print(dirpath + file)\n",
    "    temp = pd.read_csv(os.path.join(dirpath, file))  # 파일 경로 결합\n",
    "    raw = pd.concat([raw, temp], axis=0)\n",
    "\n",
    "raw.tail()\n"
   ]
  },
  {
   "cell_type": "code",
   "execution_count": 38,
   "id": "2d3400e3",
   "metadata": {},
   "outputs": [
    {
     "name": "stdout",
     "output_type": "stream",
     "text": [
      "<class 'pandas.core.frame.DataFrame'>\n",
      "Index: 107028 entries, 0 to 17723\n",
      "Data columns (total 6 columns):\n",
      " #   Column  Non-Null Count   Dtype  \n",
      "---  ------  --------------   -----  \n",
      " 0   사용일자    107028 non-null  int64  \n",
      " 1   노선명     107028 non-null  object \n",
      " 2   역명      107028 non-null  object \n",
      " 3   승차총승객수  107028 non-null  float64\n",
      " 4   하차총승객수  107028 non-null  float64\n",
      " 5   등록일자    107028 non-null  int64  \n",
      "dtypes: float64(2), int64(2), object(2)\n",
      "memory usage: 5.7+ MB\n"
     ]
    }
   ],
   "source": [
    "raw.info()"
   ]
  },
  {
   "cell_type": "code",
   "execution_count": 39,
   "id": "8c0f31b2",
   "metadata": {},
   "outputs": [],
   "source": [
    "raw = raw.reset_index(drop=True) #인덱스 초기화(여러개 합치는 경우 인덱스 초기화하는게 좋음=drop=True)"
   ]
  },
  {
   "cell_type": "code",
   "execution_count": 40,
   "id": "e1580381",
   "metadata": {},
   "outputs": [
    {
     "data": {
      "text/html": [
       "<div>\n",
       "<style scoped>\n",
       "    .dataframe tbody tr th:only-of-type {\n",
       "        vertical-align: middle;\n",
       "    }\n",
       "\n",
       "    .dataframe tbody tr th {\n",
       "        vertical-align: top;\n",
       "    }\n",
       "\n",
       "    .dataframe thead th {\n",
       "        text-align: right;\n",
       "    }\n",
       "</style>\n",
       "<table border=\"1\" class=\"dataframe\">\n",
       "  <thead>\n",
       "    <tr style=\"text-align: right;\">\n",
       "      <th></th>\n",
       "      <th>사용일자</th>\n",
       "      <th>노선명</th>\n",
       "      <th>역명</th>\n",
       "      <th>승차총승객수</th>\n",
       "      <th>하차총승객수</th>\n",
       "      <th>등록일자</th>\n",
       "    </tr>\n",
       "  </thead>\n",
       "  <tbody>\n",
       "    <tr>\n",
       "      <th>0</th>\n",
       "      <td>20190101</td>\n",
       "      <td>2호선</td>\n",
       "      <td>을지로4가</td>\n",
       "      <td>3862.0</td>\n",
       "      <td>3728.0</td>\n",
       "      <td>20190104</td>\n",
       "    </tr>\n",
       "    <tr>\n",
       "      <th>1</th>\n",
       "      <td>20190101</td>\n",
       "      <td>3호선</td>\n",
       "      <td>을지로3가</td>\n",
       "      <td>8104.0</td>\n",
       "      <td>7554.0</td>\n",
       "      <td>20190104</td>\n",
       "    </tr>\n",
       "    <tr>\n",
       "      <th>2</th>\n",
       "      <td>20190101</td>\n",
       "      <td>2호선</td>\n",
       "      <td>을지로입구</td>\n",
       "      <td>22478.0</td>\n",
       "      <td>21330.0</td>\n",
       "      <td>20190104</td>\n",
       "    </tr>\n",
       "    <tr>\n",
       "      <th>3</th>\n",
       "      <td>20190101</td>\n",
       "      <td>2호선</td>\n",
       "      <td>시청</td>\n",
       "      <td>8381.0</td>\n",
       "      <td>6049.0</td>\n",
       "      <td>20190104</td>\n",
       "    </tr>\n",
       "    <tr>\n",
       "      <th>4</th>\n",
       "      <td>20190101</td>\n",
       "      <td>6호선</td>\n",
       "      <td>동묘앞</td>\n",
       "      <td>8045.0</td>\n",
       "      <td>8504.0</td>\n",
       "      <td>20190104</td>\n",
       "    </tr>\n",
       "    <tr>\n",
       "      <th>5</th>\n",
       "      <td>20190101</td>\n",
       "      <td>경의선</td>\n",
       "      <td>청량리</td>\n",
       "      <td>15007.0</td>\n",
       "      <td>15397.0</td>\n",
       "      <td>20190104</td>\n",
       "    </tr>\n",
       "    <tr>\n",
       "      <th>6</th>\n",
       "      <td>20190101</td>\n",
       "      <td>1호선</td>\n",
       "      <td>제기동</td>\n",
       "      <td>10187.0</td>\n",
       "      <td>10178.0</td>\n",
       "      <td>20190104</td>\n",
       "    </tr>\n",
       "  </tbody>\n",
       "</table>\n",
       "</div>"
      ],
      "text/plain": [
       "       사용일자  노선명     역명   승차총승객수   하차총승객수      등록일자\n",
       "0  20190101  2호선  을지로4가   3862.0   3728.0  20190104\n",
       "1  20190101  3호선  을지로3가   8104.0   7554.0  20190104\n",
       "2  20190101  2호선  을지로입구  22478.0  21330.0  20190104\n",
       "3  20190101  2호선     시청   8381.0   6049.0  20190104\n",
       "4  20190101  6호선    동묘앞   8045.0   8504.0  20190104\n",
       "5  20190101  경의선    청량리  15007.0  15397.0  20190104\n",
       "6  20190101  1호선    제기동  10187.0  10178.0  20190104"
      ]
     },
     "execution_count": 40,
     "metadata": {},
     "output_type": "execute_result"
    }
   ],
   "source": [
    "raw.head(7)"
   ]
  },
  {
   "cell_type": "markdown",
   "id": "9439fe25",
   "metadata": {},
   "source": [
    "# Q) 요일을 추가할수 있을까?"
   ]
  },
  {
   "cell_type": "code",
   "execution_count": 41,
   "id": "f7e54737",
   "metadata": {},
   "outputs": [
    {
     "name": "stdout",
     "output_type": "stream",
     "text": [
      "<class 'pandas.core.frame.DataFrame'>\n",
      "RangeIndex: 107028 entries, 0 to 107027\n",
      "Data columns (total 6 columns):\n",
      " #   Column  Non-Null Count   Dtype  \n",
      "---  ------  --------------   -----  \n",
      " 0   사용일자    107028 non-null  int64  \n",
      " 1   노선명     107028 non-null  object \n",
      " 2   역명      107028 non-null  object \n",
      " 3   승차총승객수  107028 non-null  float64\n",
      " 4   하차총승객수  107028 non-null  float64\n",
      " 5   등록일자    107028 non-null  int64  \n",
      "dtypes: float64(2), int64(2), object(2)\n",
      "memory usage: 4.9+ MB\n"
     ]
    }
   ],
   "source": [
    "# 사용일자 컬럼 타입 확인 : int64\n",
    "\n",
    "raw.info()"
   ]
  },
  {
   "cell_type": "code",
   "execution_count": 42,
   "id": "0681f22c",
   "metadata": {},
   "outputs": [
    {
     "name": "stdout",
     "output_type": "stream",
     "text": [
      "<class 'pandas.core.frame.DataFrame'>\n",
      "RangeIndex: 107028 entries, 0 to 107027\n",
      "Data columns (total 6 columns):\n",
      " #   Column  Non-Null Count   Dtype         \n",
      "---  ------  --------------   -----         \n",
      " 0   사용일자    107028 non-null  datetime64[ns]\n",
      " 1   노선명     107028 non-null  object        \n",
      " 2   역명      107028 non-null  object        \n",
      " 3   승차총승객수  107028 non-null  float64       \n",
      " 4   하차총승객수  107028 non-null  float64       \n",
      " 5   등록일자    107028 non-null  int64         \n",
      "dtypes: datetime64[ns](1), float64(2), int64(1), object(2)\n",
      "memory usage: 4.9+ MB\n"
     ]
    }
   ],
   "source": [
    "# '사용일자' 타입 int64 --> DateTime 타입으로 변경 : pandas.to_datetime 사용\n",
    "\n",
    "raw['사용일자'] = pd.to_datetime(raw['사용일자'], format='%Y%m%d')\n",
    "raw.info()"
   ]
  },
  {
   "cell_type": "code",
   "execution_count": 43,
   "id": "68f00733",
   "metadata": {},
   "outputs": [
    {
     "data": {
      "text/html": [
       "<div>\n",
       "<style scoped>\n",
       "    .dataframe tbody tr th:only-of-type {\n",
       "        vertical-align: middle;\n",
       "    }\n",
       "\n",
       "    .dataframe tbody tr th {\n",
       "        vertical-align: top;\n",
       "    }\n",
       "\n",
       "    .dataframe thead th {\n",
       "        text-align: right;\n",
       "    }\n",
       "</style>\n",
       "<table border=\"1\" class=\"dataframe\">\n",
       "  <thead>\n",
       "    <tr style=\"text-align: right;\">\n",
       "      <th></th>\n",
       "      <th>사용일자</th>\n",
       "      <th>노선명</th>\n",
       "      <th>역명</th>\n",
       "      <th>승차총승객수</th>\n",
       "      <th>하차총승객수</th>\n",
       "      <th>등록일자</th>\n",
       "    </tr>\n",
       "  </thead>\n",
       "  <tbody>\n",
       "    <tr>\n",
       "      <th>0</th>\n",
       "      <td>2019-01-01</td>\n",
       "      <td>2호선</td>\n",
       "      <td>을지로4가</td>\n",
       "      <td>3862.0</td>\n",
       "      <td>3728.0</td>\n",
       "      <td>20190104</td>\n",
       "    </tr>\n",
       "    <tr>\n",
       "      <th>1</th>\n",
       "      <td>2019-01-01</td>\n",
       "      <td>3호선</td>\n",
       "      <td>을지로3가</td>\n",
       "      <td>8104.0</td>\n",
       "      <td>7554.0</td>\n",
       "      <td>20190104</td>\n",
       "    </tr>\n",
       "    <tr>\n",
       "      <th>2</th>\n",
       "      <td>2019-01-01</td>\n",
       "      <td>2호선</td>\n",
       "      <td>을지로입구</td>\n",
       "      <td>22478.0</td>\n",
       "      <td>21330.0</td>\n",
       "      <td>20190104</td>\n",
       "    </tr>\n",
       "    <tr>\n",
       "      <th>3</th>\n",
       "      <td>2019-01-01</td>\n",
       "      <td>2호선</td>\n",
       "      <td>시청</td>\n",
       "      <td>8381.0</td>\n",
       "      <td>6049.0</td>\n",
       "      <td>20190104</td>\n",
       "    </tr>\n",
       "    <tr>\n",
       "      <th>4</th>\n",
       "      <td>2019-01-01</td>\n",
       "      <td>6호선</td>\n",
       "      <td>동묘앞</td>\n",
       "      <td>8045.0</td>\n",
       "      <td>8504.0</td>\n",
       "      <td>20190104</td>\n",
       "    </tr>\n",
       "  </tbody>\n",
       "</table>\n",
       "</div>"
      ],
      "text/plain": [
       "        사용일자  노선명     역명   승차총승객수   하차총승객수      등록일자\n",
       "0 2019-01-01  2호선  을지로4가   3862.0   3728.0  20190104\n",
       "1 2019-01-01  3호선  을지로3가   8104.0   7554.0  20190104\n",
       "2 2019-01-01  2호선  을지로입구  22478.0  21330.0  20190104\n",
       "3 2019-01-01  2호선     시청   8381.0   6049.0  20190104\n",
       "4 2019-01-01  6호선    동묘앞   8045.0   8504.0  20190104"
      ]
     },
     "execution_count": 43,
     "metadata": {},
     "output_type": "execute_result"
    }
   ],
   "source": [
    "raw.head()"
   ]
  },
  {
   "cell_type": "markdown",
   "id": "e01c3911",
   "metadata": {},
   "source": [
    "### pandas.Series.dt\n",
    "- 참고 사이트 : https://pandas.pydata.org/docs/reference/api/pandas.Series.dt.dayofweek.html\n",
    "  - pandas.Series.dt.date\n",
    "  - pandas.Series.dt.time\n",
    "  - pandas.Series.dt.year\n",
    "  - pandas.Series.dt.month\n",
    "  - pandas.Series.dt.day"
   ]
  },
  {
   "cell_type": "code",
   "execution_count": 44,
   "id": "d085478d-edb0-4ec7-a56f-ca902935c8f9",
   "metadata": {},
   "outputs": [],
   "source": [
    "#오류 확인할 때 Pandas 원전 파일인 위에 링크로 확인해야함.\n",
    "#하지만 이미 답지를 만드셔서 일요일을 0으로 설정하고 진행하세요!!!"
   ]
  },
  {
   "cell_type": "code",
   "execution_count": 45,
   "id": "0ac3372f",
   "metadata": {},
   "outputs": [
    {
     "data": {
      "text/plain": [
       "0    2019-01-01\n",
       "1    2019-01-01\n",
       "2    2019-01-01\n",
       "Name: 사용일자, dtype: object"
      ]
     },
     "execution_count": 45,
     "metadata": {},
     "output_type": "execute_result"
    }
   ],
   "source": [
    "raw['사용일자'].dt.date.head(3)\n"
   ]
  },
  {
   "cell_type": "code",
   "execution_count": 46,
   "id": "dd59b90d",
   "metadata": {},
   "outputs": [
    {
     "data": {
      "text/plain": [
       "0    00:00:00\n",
       "1    00:00:00\n",
       "2    00:00:00\n",
       "Name: 사용일자, dtype: object"
      ]
     },
     "execution_count": 46,
     "metadata": {},
     "output_type": "execute_result"
    }
   ],
   "source": [
    "raw['사용일자'].dt.time.head(3)"
   ]
  },
  {
   "cell_type": "code",
   "execution_count": 47,
   "id": "253f9b3e",
   "metadata": {},
   "outputs": [
    {
     "data": {
      "text/plain": [
       "0    2019\n",
       "1    2019\n",
       "2    2019\n",
       "Name: 사용일자, dtype: int32"
      ]
     },
     "execution_count": 47,
     "metadata": {},
     "output_type": "execute_result"
    }
   ],
   "source": [
    "raw['사용일자'].dt.year.head(3)"
   ]
  },
  {
   "cell_type": "code",
   "execution_count": 48,
   "id": "fdf82617",
   "metadata": {},
   "outputs": [
    {
     "data": {
      "text/plain": [
       "0    1\n",
       "1    1\n",
       "2    1\n",
       "Name: 사용일자, dtype: int32"
      ]
     },
     "execution_count": 48,
     "metadata": {},
     "output_type": "execute_result"
    }
   ],
   "source": [
    "raw['사용일자'].dt.month.head(3)"
   ]
  },
  {
   "cell_type": "code",
   "execution_count": 49,
   "id": "07820356",
   "metadata": {},
   "outputs": [
    {
     "data": {
      "text/plain": [
       "0    1\n",
       "1    1\n",
       "2    1\n",
       "Name: 사용일자, dtype: int32"
      ]
     },
     "execution_count": 49,
     "metadata": {},
     "output_type": "execute_result"
    }
   ],
   "source": [
    "raw['사용일자'].dt.day.head(3)"
   ]
  },
  {
   "cell_type": "code",
   "execution_count": 50,
   "id": "fbca30eb",
   "metadata": {},
   "outputs": [
    {
     "data": {
      "text/plain": [
       "0    1\n",
       "1    1\n",
       "2    1\n",
       "Name: 사용일자, dtype: int32"
      ]
     },
     "execution_count": 50,
     "metadata": {},
     "output_type": "execute_result"
    }
   ],
   "source": [
    "# Monday=0, Sunday=6\n",
    "raw['사용일자'].dt.dayofweek.head(3)"
   ]
  },
  {
   "cell_type": "code",
   "execution_count": 51,
   "id": "afc909fc",
   "metadata": {},
   "outputs": [
    {
     "data": {
      "text/html": [
       "<div>\n",
       "<style scoped>\n",
       "    .dataframe tbody tr th:only-of-type {\n",
       "        vertical-align: middle;\n",
       "    }\n",
       "\n",
       "    .dataframe tbody tr th {\n",
       "        vertical-align: top;\n",
       "    }\n",
       "\n",
       "    .dataframe thead th {\n",
       "        text-align: right;\n",
       "    }\n",
       "</style>\n",
       "<table border=\"1\" class=\"dataframe\">\n",
       "  <thead>\n",
       "    <tr style=\"text-align: right;\">\n",
       "      <th></th>\n",
       "      <th>사용일자</th>\n",
       "      <th>노선명</th>\n",
       "      <th>역명</th>\n",
       "      <th>승차총승객수</th>\n",
       "      <th>하차총승객수</th>\n",
       "      <th>등록일자</th>\n",
       "      <th>요일</th>\n",
       "    </tr>\n",
       "  </thead>\n",
       "  <tbody>\n",
       "    <tr>\n",
       "      <th>107023</th>\n",
       "      <td>2019-06-30</td>\n",
       "      <td>7호선</td>\n",
       "      <td>마들</td>\n",
       "      <td>6622.0</td>\n",
       "      <td>6116.0</td>\n",
       "      <td>20190703</td>\n",
       "      <td>6</td>\n",
       "    </tr>\n",
       "    <tr>\n",
       "      <th>107024</th>\n",
       "      <td>2019-06-30</td>\n",
       "      <td>4호선</td>\n",
       "      <td>노원</td>\n",
       "      <td>14071.0</td>\n",
       "      <td>14702.0</td>\n",
       "      <td>20190703</td>\n",
       "      <td>6</td>\n",
       "    </tr>\n",
       "    <tr>\n",
       "      <th>107025</th>\n",
       "      <td>2019-06-30</td>\n",
       "      <td>7호선</td>\n",
       "      <td>중계</td>\n",
       "      <td>9516.0</td>\n",
       "      <td>8981.0</td>\n",
       "      <td>20190703</td>\n",
       "      <td>6</td>\n",
       "    </tr>\n",
       "    <tr>\n",
       "      <th>107026</th>\n",
       "      <td>2019-06-30</td>\n",
       "      <td>7호선</td>\n",
       "      <td>하계</td>\n",
       "      <td>11645.0</td>\n",
       "      <td>11121.0</td>\n",
       "      <td>20190703</td>\n",
       "      <td>6</td>\n",
       "    </tr>\n",
       "    <tr>\n",
       "      <th>107027</th>\n",
       "      <td>2019-06-30</td>\n",
       "      <td>6호선</td>\n",
       "      <td>태릉입구</td>\n",
       "      <td>5730.0</td>\n",
       "      <td>5214.0</td>\n",
       "      <td>20190703</td>\n",
       "      <td>6</td>\n",
       "    </tr>\n",
       "  </tbody>\n",
       "</table>\n",
       "</div>"
      ],
      "text/plain": [
       "             사용일자  노선명    역명   승차총승객수   하차총승객수      등록일자  요일\n",
       "107023 2019-06-30  7호선    마들   6622.0   6116.0  20190703   6\n",
       "107024 2019-06-30  4호선    노원  14071.0  14702.0  20190703   6\n",
       "107025 2019-06-30  7호선    중계   9516.0   8981.0  20190703   6\n",
       "107026 2019-06-30  7호선    하계  11645.0  11121.0  20190703   6\n",
       "107027 2019-06-30  6호선  태릉입구   5730.0   5214.0  20190703   6"
      ]
     },
     "execution_count": 51,
     "metadata": {},
     "output_type": "execute_result"
    }
   ],
   "source": [
    "# 사용일자에 대해서 요일로 변환\n",
    "raw['요일'] = raw['사용일자'].dt.dayofweek\n",
    "raw.tail()"
   ]
  },
  {
   "cell_type": "code",
   "execution_count": 52,
   "id": "e9841d62",
   "metadata": {},
   "outputs": [],
   "source": [
    "# 기존\n",
    "conv = {\n",
    "    0 : '일',\n",
    "    1 : '월',\n",
    "    2 : '화',\n",
    "    3 : '수',\n",
    "    4 : '목',\n",
    "    5 : '금',\n",
    "    6 : '토'\n",
    "}"
   ]
  },
  {
   "cell_type": "code",
   "execution_count": 53,
   "id": "3eb175fd-180a-4967-a497-dbe47677ef2f",
   "metadata": {},
   "outputs": [],
   "source": [
    "# 3칸 위에서 # Monday=0, Sunday=6라고 정의되어 있기 때문에, 이에 맞춰 변경함.\n",
    "#conv = {\n",
    "#    0 : '월',\n",
    "#    1 : '화',\n",
    "#    2 : '수',\n",
    "#    3 : '목',\n",
    "#    4 : '금',\n",
    "#    5 : '토',\n",
    "#    6 : '일'\n",
    "#}"
   ]
  },
  {
   "cell_type": "code",
   "execution_count": 54,
   "id": "9cb69bca",
   "metadata": {},
   "outputs": [],
   "source": [
    "# 숫자 요일을 한글명 요일로 변경\n",
    "raw['요일'] = raw['요일'].map(conv)\n"
   ]
  },
  {
   "cell_type": "code",
   "execution_count": 55,
   "id": "b166dda5",
   "metadata": {},
   "outputs": [
    {
     "data": {
      "text/html": [
       "<div>\n",
       "<style scoped>\n",
       "    .dataframe tbody tr th:only-of-type {\n",
       "        vertical-align: middle;\n",
       "    }\n",
       "\n",
       "    .dataframe tbody tr th {\n",
       "        vertical-align: top;\n",
       "    }\n",
       "\n",
       "    .dataframe thead th {\n",
       "        text-align: right;\n",
       "    }\n",
       "</style>\n",
       "<table border=\"1\" class=\"dataframe\">\n",
       "  <thead>\n",
       "    <tr style=\"text-align: right;\">\n",
       "      <th></th>\n",
       "      <th>사용일자</th>\n",
       "      <th>노선명</th>\n",
       "      <th>역명</th>\n",
       "      <th>승차총승객수</th>\n",
       "      <th>하차총승객수</th>\n",
       "      <th>등록일자</th>\n",
       "      <th>요일</th>\n",
       "    </tr>\n",
       "  </thead>\n",
       "  <tbody>\n",
       "    <tr>\n",
       "      <th>63405</th>\n",
       "      <td>2019-04-18</td>\n",
       "      <td>1호선</td>\n",
       "      <td>가산디지털단지</td>\n",
       "      <td>20551.0</td>\n",
       "      <td>23846.0</td>\n",
       "      <td>20190421</td>\n",
       "      <td>수</td>\n",
       "    </tr>\n",
       "    <tr>\n",
       "      <th>975</th>\n",
       "      <td>2019-01-02</td>\n",
       "      <td>경의선</td>\n",
       "      <td>양평</td>\n",
       "      <td>7682.0</td>\n",
       "      <td>7763.0</td>\n",
       "      <td>20190105</td>\n",
       "      <td>화</td>\n",
       "    </tr>\n",
       "    <tr>\n",
       "      <th>53126</th>\n",
       "      <td>2019-03-31</td>\n",
       "      <td>7호선</td>\n",
       "      <td>광명사거리</td>\n",
       "      <td>17650.0</td>\n",
       "      <td>17112.0</td>\n",
       "      <td>20190403</td>\n",
       "      <td>토</td>\n",
       "    </tr>\n",
       "    <tr>\n",
       "      <th>92079</th>\n",
       "      <td>2019-06-05</td>\n",
       "      <td>5호선</td>\n",
       "      <td>고덕</td>\n",
       "      <td>12208.0</td>\n",
       "      <td>11599.0</td>\n",
       "      <td>20190608</td>\n",
       "      <td>화</td>\n",
       "    </tr>\n",
       "    <tr>\n",
       "      <th>16918</th>\n",
       "      <td>2019-01-29</td>\n",
       "      <td>분당선</td>\n",
       "      <td>이매</td>\n",
       "      <td>1225.0</td>\n",
       "      <td>1034.0</td>\n",
       "      <td>20190201</td>\n",
       "      <td>월</td>\n",
       "    </tr>\n",
       "  </tbody>\n",
       "</table>\n",
       "</div>"
      ],
      "text/plain": [
       "            사용일자  노선명       역명   승차총승객수   하차총승객수      등록일자 요일\n",
       "63405 2019-04-18  1호선  가산디지털단지  20551.0  23846.0  20190421  수\n",
       "975   2019-01-02  경의선       양평   7682.0   7763.0  20190105  화\n",
       "53126 2019-03-31  7호선    광명사거리  17650.0  17112.0  20190403  토\n",
       "92079 2019-06-05  5호선       고덕  12208.0  11599.0  20190608  화\n",
       "16918 2019-01-29  분당선       이매   1225.0   1034.0  20190201  월"
      ]
     },
     "execution_count": 55,
     "metadata": {},
     "output_type": "execute_result"
    }
   ],
   "source": [
    "raw.sample(5)"
   ]
  },
  {
   "cell_type": "code",
   "execution_count": 56,
   "id": "72d6f654-064a-49b9-b3b1-e8cc2cd0413a",
   "metadata": {},
   "outputs": [],
   "source": [
    "#사용일자에 따른 실제 요일 맞는지 확인 완료"
   ]
  },
  {
   "cell_type": "markdown",
   "id": "6bd273e2",
   "metadata": {},
   "source": [
    "# Q) '연월' 컬럼을 만들어 보자!"
   ]
  },
  {
   "cell_type": "code",
   "execution_count": 57,
   "id": "02be4fe8",
   "metadata": {},
   "outputs": [
    {
     "data": {
      "text/plain": [
       "0         2019-01\n",
       "1         2019-01\n",
       "2         2019-01\n",
       "3         2019-01\n",
       "4         2019-01\n",
       "           ...   \n",
       "107023    2019-06\n",
       "107024    2019-06\n",
       "107025    2019-06\n",
       "107026    2019-06\n",
       "107027    2019-06\n",
       "Name: 사용일자, Length: 107028, dtype: object"
      ]
     },
     "execution_count": 57,
     "metadata": {},
     "output_type": "execute_result"
    }
   ],
   "source": [
    "# pandas.Series.dt.strftime 활용\n",
    "raw['사용일자'].dt.strftime('%Y-%m')"
   ]
  },
  {
   "cell_type": "code",
   "execution_count": 58,
   "id": "510f9cca",
   "metadata": {},
   "outputs": [
    {
     "data": {
      "text/html": [
       "<div>\n",
       "<style scoped>\n",
       "    .dataframe tbody tr th:only-of-type {\n",
       "        vertical-align: middle;\n",
       "    }\n",
       "\n",
       "    .dataframe tbody tr th {\n",
       "        vertical-align: top;\n",
       "    }\n",
       "\n",
       "    .dataframe thead th {\n",
       "        text-align: right;\n",
       "    }\n",
       "</style>\n",
       "<table border=\"1\" class=\"dataframe\">\n",
       "  <thead>\n",
       "    <tr style=\"text-align: right;\">\n",
       "      <th></th>\n",
       "      <th>사용일자</th>\n",
       "      <th>노선명</th>\n",
       "      <th>역명</th>\n",
       "      <th>승차총승객수</th>\n",
       "      <th>하차총승객수</th>\n",
       "      <th>등록일자</th>\n",
       "      <th>요일</th>\n",
       "      <th>연월</th>\n",
       "    </tr>\n",
       "  </thead>\n",
       "  <tbody>\n",
       "    <tr>\n",
       "      <th>0</th>\n",
       "      <td>2019-01-01</td>\n",
       "      <td>2호선</td>\n",
       "      <td>을지로4가</td>\n",
       "      <td>3862.0</td>\n",
       "      <td>3728.0</td>\n",
       "      <td>20190104</td>\n",
       "      <td>월</td>\n",
       "      <td>2019-01</td>\n",
       "    </tr>\n",
       "    <tr>\n",
       "      <th>1</th>\n",
       "      <td>2019-01-01</td>\n",
       "      <td>3호선</td>\n",
       "      <td>을지로3가</td>\n",
       "      <td>8104.0</td>\n",
       "      <td>7554.0</td>\n",
       "      <td>20190104</td>\n",
       "      <td>월</td>\n",
       "      <td>2019-01</td>\n",
       "    </tr>\n",
       "    <tr>\n",
       "      <th>2</th>\n",
       "      <td>2019-01-01</td>\n",
       "      <td>2호선</td>\n",
       "      <td>을지로입구</td>\n",
       "      <td>22478.0</td>\n",
       "      <td>21330.0</td>\n",
       "      <td>20190104</td>\n",
       "      <td>월</td>\n",
       "      <td>2019-01</td>\n",
       "    </tr>\n",
       "    <tr>\n",
       "      <th>3</th>\n",
       "      <td>2019-01-01</td>\n",
       "      <td>2호선</td>\n",
       "      <td>시청</td>\n",
       "      <td>8381.0</td>\n",
       "      <td>6049.0</td>\n",
       "      <td>20190104</td>\n",
       "      <td>월</td>\n",
       "      <td>2019-01</td>\n",
       "    </tr>\n",
       "    <tr>\n",
       "      <th>4</th>\n",
       "      <td>2019-01-01</td>\n",
       "      <td>6호선</td>\n",
       "      <td>동묘앞</td>\n",
       "      <td>8045.0</td>\n",
       "      <td>8504.0</td>\n",
       "      <td>20190104</td>\n",
       "      <td>월</td>\n",
       "      <td>2019-01</td>\n",
       "    </tr>\n",
       "  </tbody>\n",
       "</table>\n",
       "</div>"
      ],
      "text/plain": [
       "        사용일자  노선명     역명   승차총승객수   하차총승객수      등록일자 요일       연월\n",
       "0 2019-01-01  2호선  을지로4가   3862.0   3728.0  20190104  월  2019-01\n",
       "1 2019-01-01  3호선  을지로3가   8104.0   7554.0  20190104  월  2019-01\n",
       "2 2019-01-01  2호선  을지로입구  22478.0  21330.0  20190104  월  2019-01\n",
       "3 2019-01-01  2호선     시청   8381.0   6049.0  20190104  월  2019-01\n",
       "4 2019-01-01  6호선    동묘앞   8045.0   8504.0  20190104  월  2019-01"
      ]
     },
     "execution_count": 58,
     "metadata": {},
     "output_type": "execute_result"
    }
   ],
   "source": [
    "# 사용일자 컬럼에서 년월 값을 가져와 년월 컬럼 만들자\n",
    "\n",
    "raw['연월'] = raw['사용일자'].dt.strftime('%Y-%m')\n",
    "raw.head()"
   ]
  },
  {
   "cell_type": "markdown",
   "id": "3361c1d8",
   "metadata": {},
   "source": [
    "# Q) '월일' 컬럼을 만들어 보자!"
   ]
  },
  {
   "cell_type": "code",
   "execution_count": 59,
   "id": "cac445c8",
   "metadata": {},
   "outputs": [
    {
     "data": {
      "text/plain": [
       "0         01-01\n",
       "1         01-01\n",
       "2         01-01\n",
       "3         01-01\n",
       "4         01-01\n",
       "          ...  \n",
       "107023    06-30\n",
       "107024    06-30\n",
       "107025    06-30\n",
       "107026    06-30\n",
       "107027    06-30\n",
       "Name: 사용일자, Length: 107028, dtype: object"
      ]
     },
     "execution_count": 59,
     "metadata": {},
     "output_type": "execute_result"
    }
   ],
   "source": [
    "# pandas.Series.dt.strftime 활용\n",
    "raw['사용일자'].dt.strftime('%m-%d')"
   ]
  },
  {
   "cell_type": "code",
   "execution_count": 60,
   "id": "61635de8",
   "metadata": {},
   "outputs": [
    {
     "data": {
      "text/html": [
       "<div>\n",
       "<style scoped>\n",
       "    .dataframe tbody tr th:only-of-type {\n",
       "        vertical-align: middle;\n",
       "    }\n",
       "\n",
       "    .dataframe tbody tr th {\n",
       "        vertical-align: top;\n",
       "    }\n",
       "\n",
       "    .dataframe thead th {\n",
       "        text-align: right;\n",
       "    }\n",
       "</style>\n",
       "<table border=\"1\" class=\"dataframe\">\n",
       "  <thead>\n",
       "    <tr style=\"text-align: right;\">\n",
       "      <th></th>\n",
       "      <th>사용일자</th>\n",
       "      <th>노선명</th>\n",
       "      <th>역명</th>\n",
       "      <th>승차총승객수</th>\n",
       "      <th>하차총승객수</th>\n",
       "      <th>등록일자</th>\n",
       "      <th>요일</th>\n",
       "      <th>연월</th>\n",
       "      <th>월일</th>\n",
       "    </tr>\n",
       "  </thead>\n",
       "  <tbody>\n",
       "    <tr>\n",
       "      <th>0</th>\n",
       "      <td>2019-01-01</td>\n",
       "      <td>2호선</td>\n",
       "      <td>을지로4가</td>\n",
       "      <td>3862.0</td>\n",
       "      <td>3728.0</td>\n",
       "      <td>20190104</td>\n",
       "      <td>월</td>\n",
       "      <td>2019-01</td>\n",
       "      <td>01-01</td>\n",
       "    </tr>\n",
       "    <tr>\n",
       "      <th>1</th>\n",
       "      <td>2019-01-01</td>\n",
       "      <td>3호선</td>\n",
       "      <td>을지로3가</td>\n",
       "      <td>8104.0</td>\n",
       "      <td>7554.0</td>\n",
       "      <td>20190104</td>\n",
       "      <td>월</td>\n",
       "      <td>2019-01</td>\n",
       "      <td>01-01</td>\n",
       "    </tr>\n",
       "    <tr>\n",
       "      <th>2</th>\n",
       "      <td>2019-01-01</td>\n",
       "      <td>2호선</td>\n",
       "      <td>을지로입구</td>\n",
       "      <td>22478.0</td>\n",
       "      <td>21330.0</td>\n",
       "      <td>20190104</td>\n",
       "      <td>월</td>\n",
       "      <td>2019-01</td>\n",
       "      <td>01-01</td>\n",
       "    </tr>\n",
       "    <tr>\n",
       "      <th>3</th>\n",
       "      <td>2019-01-01</td>\n",
       "      <td>2호선</td>\n",
       "      <td>시청</td>\n",
       "      <td>8381.0</td>\n",
       "      <td>6049.0</td>\n",
       "      <td>20190104</td>\n",
       "      <td>월</td>\n",
       "      <td>2019-01</td>\n",
       "      <td>01-01</td>\n",
       "    </tr>\n",
       "    <tr>\n",
       "      <th>4</th>\n",
       "      <td>2019-01-01</td>\n",
       "      <td>6호선</td>\n",
       "      <td>동묘앞</td>\n",
       "      <td>8045.0</td>\n",
       "      <td>8504.0</td>\n",
       "      <td>20190104</td>\n",
       "      <td>월</td>\n",
       "      <td>2019-01</td>\n",
       "      <td>01-01</td>\n",
       "    </tr>\n",
       "  </tbody>\n",
       "</table>\n",
       "</div>"
      ],
      "text/plain": [
       "        사용일자  노선명     역명   승차총승객수   하차총승객수      등록일자 요일       연월     월일\n",
       "0 2019-01-01  2호선  을지로4가   3862.0   3728.0  20190104  월  2019-01  01-01\n",
       "1 2019-01-01  3호선  을지로3가   8104.0   7554.0  20190104  월  2019-01  01-01\n",
       "2 2019-01-01  2호선  을지로입구  22478.0  21330.0  20190104  월  2019-01  01-01\n",
       "3 2019-01-01  2호선     시청   8381.0   6049.0  20190104  월  2019-01  01-01\n",
       "4 2019-01-01  6호선    동묘앞   8045.0   8504.0  20190104  월  2019-01  01-01"
      ]
     },
     "execution_count": 60,
     "metadata": {},
     "output_type": "execute_result"
    }
   ],
   "source": [
    "# 사용일자 컬럼에서 월일 값을 가져와 월일 컬럼 만들자\n",
    "\n",
    "raw['월일'] = raw['사용일자'].dt.strftime('%m-%d')\n",
    "raw.head()"
   ]
  },
  {
   "cell_type": "markdown",
   "id": "f867a335",
   "metadata": {},
   "source": [
    "# Q) 승자와 하자하는 모든 승객수를 구해 볼까요?"
   ]
  },
  {
   "cell_type": "code",
   "execution_count": 61,
   "id": "a2515bbb",
   "metadata": {},
   "outputs": [],
   "source": [
    "# 승하자총승객수 컬럼 생성 : 승차총승객수 + 하차총승객수\n",
    "raw['승하자총승객수'] = raw['승차총승객수'] + raw['하차총승객수']"
   ]
  },
  {
   "cell_type": "code",
   "execution_count": 62,
   "id": "45ef8620",
   "metadata": {},
   "outputs": [
    {
     "name": "stdout",
     "output_type": "stream",
     "text": [
      "Index(['사용일자', '노선명', '역명', '승차총승객수', '하차총승객수', '등록일자', '요일', '연월', '월일',\n",
      "       '승하자총승객수'],\n",
      "      dtype='object')\n"
     ]
    },
    {
     "data": {
      "text/html": [
       "<div>\n",
       "<style scoped>\n",
       "    .dataframe tbody tr th:only-of-type {\n",
       "        vertical-align: middle;\n",
       "    }\n",
       "\n",
       "    .dataframe tbody tr th {\n",
       "        vertical-align: top;\n",
       "    }\n",
       "\n",
       "    .dataframe thead th {\n",
       "        text-align: right;\n",
       "    }\n",
       "</style>\n",
       "<table border=\"1\" class=\"dataframe\">\n",
       "  <thead>\n",
       "    <tr style=\"text-align: right;\">\n",
       "      <th></th>\n",
       "      <th>사용일자</th>\n",
       "      <th>요일</th>\n",
       "      <th>노선명</th>\n",
       "      <th>역명</th>\n",
       "      <th>승차총승객수</th>\n",
       "      <th>하차총승객수</th>\n",
       "      <th>승하자총승객수</th>\n",
       "      <th>연월</th>\n",
       "      <th>월일</th>\n",
       "      <th>등록일자</th>\n",
       "    </tr>\n",
       "  </thead>\n",
       "  <tbody>\n",
       "    <tr>\n",
       "      <th>0</th>\n",
       "      <td>2019-01-01</td>\n",
       "      <td>월</td>\n",
       "      <td>2호선</td>\n",
       "      <td>을지로4가</td>\n",
       "      <td>3862.0</td>\n",
       "      <td>3728.0</td>\n",
       "      <td>7590.0</td>\n",
       "      <td>2019-01</td>\n",
       "      <td>01-01</td>\n",
       "      <td>20190104</td>\n",
       "    </tr>\n",
       "    <tr>\n",
       "      <th>1</th>\n",
       "      <td>2019-01-01</td>\n",
       "      <td>월</td>\n",
       "      <td>3호선</td>\n",
       "      <td>을지로3가</td>\n",
       "      <td>8104.0</td>\n",
       "      <td>7554.0</td>\n",
       "      <td>15658.0</td>\n",
       "      <td>2019-01</td>\n",
       "      <td>01-01</td>\n",
       "      <td>20190104</td>\n",
       "    </tr>\n",
       "    <tr>\n",
       "      <th>2</th>\n",
       "      <td>2019-01-01</td>\n",
       "      <td>월</td>\n",
       "      <td>2호선</td>\n",
       "      <td>을지로입구</td>\n",
       "      <td>22478.0</td>\n",
       "      <td>21330.0</td>\n",
       "      <td>43808.0</td>\n",
       "      <td>2019-01</td>\n",
       "      <td>01-01</td>\n",
       "      <td>20190104</td>\n",
       "    </tr>\n",
       "    <tr>\n",
       "      <th>3</th>\n",
       "      <td>2019-01-01</td>\n",
       "      <td>월</td>\n",
       "      <td>2호선</td>\n",
       "      <td>시청</td>\n",
       "      <td>8381.0</td>\n",
       "      <td>6049.0</td>\n",
       "      <td>14430.0</td>\n",
       "      <td>2019-01</td>\n",
       "      <td>01-01</td>\n",
       "      <td>20190104</td>\n",
       "    </tr>\n",
       "    <tr>\n",
       "      <th>4</th>\n",
       "      <td>2019-01-01</td>\n",
       "      <td>월</td>\n",
       "      <td>6호선</td>\n",
       "      <td>동묘앞</td>\n",
       "      <td>8045.0</td>\n",
       "      <td>8504.0</td>\n",
       "      <td>16549.0</td>\n",
       "      <td>2019-01</td>\n",
       "      <td>01-01</td>\n",
       "      <td>20190104</td>\n",
       "    </tr>\n",
       "  </tbody>\n",
       "</table>\n",
       "</div>"
      ],
      "text/plain": [
       "        사용일자 요일  노선명     역명   승차총승객수   하차총승객수  승하자총승객수       연월     월일  \\\n",
       "0 2019-01-01  월  2호선  을지로4가   3862.0   3728.0   7590.0  2019-01  01-01   \n",
       "1 2019-01-01  월  3호선  을지로3가   8104.0   7554.0  15658.0  2019-01  01-01   \n",
       "2 2019-01-01  월  2호선  을지로입구  22478.0  21330.0  43808.0  2019-01  01-01   \n",
       "3 2019-01-01  월  2호선     시청   8381.0   6049.0  14430.0  2019-01  01-01   \n",
       "4 2019-01-01  월  6호선    동묘앞   8045.0   8504.0  16549.0  2019-01  01-01   \n",
       "\n",
       "       등록일자  \n",
       "0  20190104  \n",
       "1  20190104  \n",
       "2  20190104  \n",
       "3  20190104  \n",
       "4  20190104  "
      ]
     },
     "execution_count": 62,
     "metadata": {},
     "output_type": "execute_result"
    }
   ],
   "source": [
    "# 요일을 사용일자 다음에 나오도록 컬럼순서를 변경하겠습니다.\n",
    "\n",
    "# 현재 컬럼명 확인\n",
    "print(raw.columns)\n",
    "\n",
    "raw = raw[['사용일자', '요일', '노선명', '역명', '승차총승객수', '하차총승객수', '승하자총승객수', '연월', '월일', '등록일자' ]]\n",
    "raw.head()\n"
   ]
  },
  {
   "cell_type": "markdown",
   "id": "57ce2c4a",
   "metadata": {},
   "source": [
    "# 3. 정리한 데이터 저장하기"
   ]
  },
  {
   "cell_type": "code",
   "execution_count": 63,
   "id": "689a1795",
   "metadata": {},
   "outputs": [],
   "source": [
    "# 작업한 결과를 data 폴더에 저장하겠습니다.\n",
    "\n",
    "fpath = './subway_raw.csv'\n",
    "raw.to_csv(fpath, index=False, encoding='utf-8-sig')\n"
   ]
  },
  {
   "cell_type": "code",
   "execution_count": null,
   "id": "2497e191",
   "metadata": {},
   "outputs": [],
   "source": []
  }
 ],
 "metadata": {
  "kernelspec": {
   "display_name": "Python 3 (ipykernel)",
   "language": "python",
   "name": "python3"
  },
  "language_info": {
   "codemirror_mode": {
    "name": "ipython",
    "version": 3
   },
   "file_extension": ".py",
   "mimetype": "text/x-python",
   "name": "python",
   "nbconvert_exporter": "python",
   "pygments_lexer": "ipython3",
   "version": "3.11.7"
  },
  "vscode": {
   "interpreter": {
    "hash": "ff4f85d6e04298634172ac5d8264e7e9b556b95639fe52ebb9425c4d4cba0c9c"
   }
  }
 },
 "nbformat": 4,
 "nbformat_minor": 5
}
